{
  "nbformat": 4,
  "nbformat_minor": 0,
  "metadata": {
    "colab": {
      "provenance": []
    },
    "kernelspec": {
      "name": "python3",
      "display_name": "Python 3"
    },
    "language_info": {
      "name": "python"
    }
  },
  "cells": [
    {
      "cell_type": "code",
      "execution_count": 1,
      "metadata": {
        "id": "7jujSpMgw2tw"
      },
      "outputs": [],
      "source": [
        "import cv2\n",
        "import numpy as np\n",
        "\n",
        "image_path = \"Objects.png\"\n",
        "image = cv2.imread(image_path, cv2.IMREAD_GRAYSCALE)"
      ]
    },
    {
      "cell_type": "markdown",
      "source": [
        "White (255) represents object pixels.\n",
        "Black (0) represents the background.\n",
        "We are traversing through each pixel and if it's value is 255 and it has not visited that means we have encountered a new object, and then using dfs we will update visited matrix with all the connected pxels of that object."
      ],
      "metadata": {
        "id": "cfjqjenc6PVN"
      }
    },
    {
      "cell_type": "code",
      "source": [
        "def count_objects(image):\n",
        "    height, width = image.shape\n",
        "\n",
        "    # a 2D boolean array with initial values as false\n",
        "    visited = np.zeros((height, width), dtype=bool)\n",
        "\n",
        "    # Directions to be search for every pixel\n",
        "    directions = [(-1, 0), (1, 0), (0, -1), (0, 1), (-1, -1), (-1, 1), (1, -1), (1, 1)]\n",
        "\n",
        "    def dfs(x, y):\n",
        "        stack = [(x, y)]\n",
        "        while stack:\n",
        "            cx, cy = stack.pop()\n",
        "            if visited[cx, cy]:\n",
        "                continue\n",
        "            visited[cx, cy] = True\n",
        "            # Check all 8 neighbors\n",
        "            for dx, dy in directions:\n",
        "                nx, ny = cx + dx, cy + dy\n",
        "                if 0 <= nx < height and 0 <= ny < width and image[nx, ny] == 255 and not visited[nx, ny]:\n",
        "                    stack.append((nx, ny))\n",
        "\n",
        "    object_count = 0\n",
        "\n",
        "    # Iterate through each pixel in the image\n",
        "    for i in range(height):\n",
        "        for j in range(width):\n",
        "            # if found a new object increase object count and make all the\n",
        "            if image[i, j] == 255 and not visited[i, j]:\n",
        "                object_count += 1\n",
        "                dfs(i, j)\n",
        "\n",
        "    return object_count"
      ],
      "metadata": {
        "id": "2Hu9Fhh5x6sk"
      },
      "execution_count": 2,
      "outputs": []
    },
    {
      "cell_type": "code",
      "source": [
        "num_objects_scratch = count_objects(image)\n",
        "num_objects_scratch"
      ],
      "metadata": {
        "colab": {
          "base_uri": "https://localhost:8080/"
        },
        "id": "-2hTWAGAyevv",
        "outputId": "67b31780-36a5-49a4-833e-a6e8361f43f2"
      },
      "execution_count": 3,
      "outputs": [
        {
          "output_type": "execute_result",
          "data": {
            "text/plain": [
              "9"
            ]
          },
          "metadata": {},
          "execution_count": 3
        }
      ]
    },
    {
      "cell_type": "code",
      "source": [],
      "metadata": {
        "id": "9BRAxRJhyi-w"
      },
      "execution_count": null,
      "outputs": []
    }
  ]
}