{
  "nbformat": 4,
  "nbformat_minor": 0,
  "metadata": {
    "colab": {
      "provenance": []
    },
    "kernelspec": {
      "name": "python3",
      "display_name": "Python 3"
    },
    "language_info": {
      "name": "python"
    }
  },
  "cells": [
    {
      "cell_type": "code",
      "source": [
        "import numpy as np\n",
        "\n",
        "def mouth_aspect_ratio(p1, p2, p3, p4):\n",
        "    \"\"\"\n",
        "    Computes the Mouth Aspect Ratio (MAR).\n",
        "\n",
        "    Here:\n",
        "        p1, p2, p3, p4: Four key points representing mouth corners and midpoints (x, y).\n",
        "\n",
        "    It returns:\n",
        "        MAR value.\n",
        "    \"\"\"\n",
        "    width = np.linalg.norm(np.array(p1) - np.array(p2))\n",
        "    height = np.linalg.norm(np.array(p3) - np.array(p4))\n",
        "    return height / width if width != 0 else 0"
      ],
      "metadata": {
        "id": "IaQ7tnDhUqC1"
      },
      "execution_count": 1,
      "outputs": []
    },
    {
      "cell_type": "markdown",
      "source": [
        "lip curvature using quadratic fitting.\n",
        "\n",
        "A parabola will fit those 4 points and the best fitting parabola can be taken to get the curvature of the lips\n",
        "   \n",
        "    Parameters:\n",
        "        p1, p2: (x, y) Left and right corners of the mouth.\n",
        "        p3: (x, y) Upper midpoint of the mouth.\n",
        "        p4: (x, y) Lower midpoint of the mouth.\n",
        "    \n",
        "    Returns:\n",
        "        Curvature value (coefficient 'a' from y = ax² + bx + c).\n",
        "        Positive 'a' → Smiling\n",
        "        Negative 'a' → Frowning\n",
        "        zero 'a' → Neutral"
      ],
      "metadata": {
        "id": "39q-WPvI_J8M"
      }
    },
    {
      "cell_type": "code",
      "source": [
        "def lip_curvature(p1, p2, p3, p4):\n",
        "\n",
        "    # Extract x and y coordinates\n",
        "    x = np.array([p1[0], p2[0], p3[0], p4[0]])\n",
        "    y = np.array([p1[1], p2[1], p3[1], p4[1]])\n",
        "\n",
        "    # polyfit will fit a best parabola for given 4 points\n",
        "    #it will return the values of a, b, c\n",
        "    coefficients = np.polyfit(x, y, 2)\n",
        "    a = coefficients[0]\n",
        "\n",
        "    return a"
      ],
      "metadata": {
        "id": "lMiBaKVwUuaR"
      },
      "execution_count": 2,
      "outputs": []
    },
    {
      "cell_type": "code",
      "source": [
        "def lip_distance(p3, p4):\n",
        "    \"\"\"\n",
        "    We will Comput the vertical distance between the upper and lower lips.\n",
        "    Smiling lips have greater vertical distance than non-smiling lips.\n",
        "\n",
        "    Here:\n",
        "        p3, p4: Upper and lower midpoints of the mouth (x, y).\n",
        "\n",
        "    It returns:\n",
        "        Vertical distance.\n",
        "    \"\"\"\n",
        "    return np.linalg.norm(np.array(p3) - np.array(p4))"
      ],
      "metadata": {
        "id": "-5tns0_mU1fM"
      },
      "execution_count": null,
      "outputs": []
    }
  ]
}