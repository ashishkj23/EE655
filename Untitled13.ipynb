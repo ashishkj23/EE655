{
  "nbformat": 4,
  "nbformat_minor": 0,
  "metadata": {
    "colab": {
      "provenance": [],
      "gpuType": "T4"
    },
    "kernelspec": {
      "name": "python3",
      "display_name": "Python 3"
    },
    "language_info": {
      "name": "python"
    },
    "accelerator": "GPU"
  },
  "cells": [
    {
      "cell_type": "code",
      "execution_count": 1,
      "metadata": {
        "colab": {
          "base_uri": "https://localhost:8080/"
        },
        "id": "S0hSpjVXGnau",
        "outputId": "f1e5354f-c04d-456d-b2b7-35ca21a8d670"
      },
      "outputs": [
        {
          "output_type": "stream",
          "name": "stderr",
          "text": [
            "100%|██████████| 9.91M/9.91M [00:00<00:00, 41.7MB/s]\n",
            "100%|██████████| 28.9k/28.9k [00:00<00:00, 1.24MB/s]\n",
            "100%|██████████| 1.65M/1.65M [00:00<00:00, 10.7MB/s]\n",
            "100%|██████████| 4.54k/4.54k [00:00<00:00, 5.85MB/s]\n"
          ]
        }
      ],
      "source": [
        "import torch\n",
        "from torchvision import datasets, transforms\n",
        "import numpy as np\n",
        "import cv2\n",
        "import os\n",
        "from PIL import Image\n",
        "import random\n",
        "from tqdm import tqdm\n",
        "\n",
        "transform = transforms.Compose([\n",
        "    transforms.ToTensor(),  # Convert to tensor\n",
        "])\n",
        "\n",
        "mnist_dataset = datasets.MNIST(root='./data', train=True, download=True, transform=transform)"
      ]
    },
    {
      "cell_type": "code",
      "source": [
        "os.makedirs(\"new_datasets/foreground_segmentation/images\", exist_ok=True)\n",
        "os.makedirs(\"new_datasets/foreground_segmentation/masks\", exist_ok=True)\n",
        "\n",
        "os.makedirs(\"new_datasets/circle_localization/images\", exist_ok=True)\n",
        "os.makedirs(\"new_datasets/circle_localization/circles\", exist_ok=True)\n",
        "\n",
        "os.makedirs(\"new_datasets/semantic_segmentation/images\", exist_ok=True)\n",
        "os.makedirs(\"new_datasets/semantic_segmentation/masks\", exist_ok=True)"
      ],
      "metadata": {
        "id": "Z8SKQ4QgiZ7M"
      },
      "execution_count": 2,
      "outputs": []
    },
    {
      "cell_type": "markdown",
      "source": [
        "**Q1) Perform the following tasks on the MNIST dataset to build three new datasets:**\n",
        "\n",
        "**a) Obtain foreground segmentation masks for the images in the MNIST dataset using the Otsu\n",
        "thresholding method. This will provide rough ground truth masks required to build a new\n",
        "foreground segmentation dataset.**\n"
      ],
      "metadata": {
        "id": "XZSnlXvhruZO"
      }
    },
    {
      "cell_type": "markdown",
      "source": [
        "We used Otsu's thresholding on MNIST images to segment the foreground digits from the background. The segmented masks help isolate the region of interest for further processing."
      ],
      "metadata": {
        "id": "5ajxjy9wb0wo"
      }
    },
    {
      "cell_type": "markdown",
      "source": [],
      "metadata": {
        "id": "H9XDMbZLbpg1"
      }
    },
    {
      "cell_type": "code",
      "source": [
        "def get_otsu_mask(image_tensor):\n",
        "    img = (image_tensor.squeeze().numpy() * 255).astype(np.uint8)\n",
        "    _, mask = cv2.threshold(img, 0, 255, cv2.THRESH_BINARY + cv2.THRESH_OTSU)\n",
        "    return mask\n",
        "\n",
        "print(\"Creating foreground segmentation dataset...\")\n",
        "foreground_dataset = []\n",
        "for idx, (img_tensor, label) in tqdm(enumerate(mnist_dataset), total=len(mnist_dataset)):\n",
        "    image = (img_tensor.squeeze().numpy() * 255).astype(np.uint8)\n",
        "    mask = get_otsu_mask(img_tensor)\n",
        "    torch.save(torch.tensor(image, dtype=torch.uint8), f\"new_datasets/foreground_segmentation/images/{idx}.pt\")\n",
        "    torch.save(torch.tensor(mask, dtype=torch.uint8), f\"new_datasets/foreground_segmentation/masks/{idx}.pt\")\n",
        "    foreground_dataset.append((idx, label))"
      ],
      "metadata": {
        "colab": {
          "base_uri": "https://localhost:8080/"
        },
        "id": "ZOPt-QMyhcYU",
        "outputId": "2434ab61-8336-4d31-efc4-844eb736a04c"
      },
      "execution_count": 3,
      "outputs": [
        {
          "output_type": "stream",
          "name": "stdout",
          "text": [
            "Creating foreground segmentation dataset...\n"
          ]
        },
        {
          "output_type": "stream",
          "name": "stderr",
          "text": [
            "100%|██████████| 60000/60000 [00:57<00:00, 1038.92it/s]\n"
          ]
        }
      ]
    },
    {
      "cell_type": "code",
      "source": [
        "import matplotlib.pyplot as plt\n",
        "image = torch.load(f\"new_datasets/foreground_segmentation/images/{4}.pt\").numpy()\n",
        "mask = torch.load(f\"new_datasets/foreground_segmentation/masks/{4}.pt\").numpy()\n",
        "\n",
        "plt.figure(figsize=(8, 4))\n",
        "plt.subplot(1, 2, 1)\n",
        "plt.imshow(image, cmap='gray')\n",
        "plt.title(\"Original Image\")\n",
        "plt.axis('off')\n",
        "\n",
        "plt.subplot(1, 2, 2)\n",
        "plt.imshow(mask, cmap='gray')\n",
        "plt.title(\"Otsu Foreground Mask\")\n",
        "plt.axis('off')\n",
        "\n",
        "plt.suptitle(f\"Foreground Segmentation Example #{4}\")\n",
        "plt.show()"
      ],
      "metadata": {
        "colab": {
          "base_uri": "https://localhost:8080/",
          "height": 371
        },
        "id": "5Lkifcjsix2N",
        "outputId": "4b1e6764-5ddc-445d-d318-da27fe5410f7"
      },
      "execution_count": 4,
      "outputs": [
        {
          "output_type": "display_data",
          "data": {
            "text/plain": [
              "<Figure size 800x400 with 2 Axes>"
            ],
            "image/png": "[encoded data removed]"
          },
          "metadata": {}
        }
      ]
    },
    {
      "cell_type": "markdown",
      "source": [
        "**b) Obtain tight ground truth circles around the foreground segmentation masks obtained in (a).\n",
        "This will create a new dataset of 10 classes for performing classification with circlization\n",
        "(circular localization). You may use existing libraries to generate the tight circles.**"
      ],
      "metadata": {
        "id": "HhQE6fzCsF4J"
      }
    },
    {
      "cell_type": "markdown",
      "source": [
        "For each segmented digit mask, we computed the minimum enclosing circle to form a tight circular mask. This created a new dataset suitable for joint classification and localization tasks."
      ],
      "metadata": {
        "id": "XJu1J9Egb9dw"
      }
    },
    {
      "cell_type": "code",
      "source": [
        "def get_circle_image(mask):\n",
        "    output = np.zeros_like(mask)\n",
        "    contours, _ = cv2.findContours(mask, cv2.RETR_EXTERNAL, cv2.CHAIN_APPROX_SIMPLE)\n",
        "    if contours:\n",
        "        cnt = max(contours, key=cv2.contourArea)\n",
        "        (x, y), radius = cv2.minEnclosingCircle(cnt)\n",
        "        center = (int(x), int(y))\n",
        "        radius = int(radius)\n",
        "        cv2.circle(output, center, radius, (255), thickness=-1)\n",
        "    return output\n",
        "\n",
        "print(\"Creating circle localization dataset...\")\n",
        "circle_dataset = []\n",
        "for idx, (img_tensor, label) in tqdm(enumerate(mnist_dataset), total=len(mnist_dataset)):\n",
        "    image = (img_tensor.squeeze().numpy() * 255).astype(np.uint8)\n",
        "    mask = get_otsu_mask(img_tensor)\n",
        "    circle_img = get_circle_image(mask)\n",
        "    torch.save(torch.tensor(image, dtype=torch.uint8), f\"new_datasets/circle_localization/images/{idx}.pt\")\n",
        "    torch.save(torch.tensor(circle_img, dtype=torch.uint8), f\"new_datasets/circle_localization/circles/{idx}.pt\")\n",
        "    circle_dataset.append((idx, label))"
      ],
      "metadata": {
        "colab": {
          "base_uri": "https://localhost:8080/"
        },
        "id": "8edi-G61jUJw",
        "outputId": "87a12e26-9938-4026-b894-24548dc3480c"
      },
      "execution_count": 4,
      "outputs": [
        {
          "output_type": "stream",
          "name": "stdout",
          "text": [
            "Creating circle localization dataset...\n"
          ]
        },
        {
          "output_type": "stream",
          "name": "stderr",
          "text": [
            "100%|██████████| 60000/60000 [01:11<00:00, 842.78it/s]\n"
          ]
        }
      ]
    },
    {
      "cell_type": "code",
      "source": [
        "import matplotlib.pyplot as plt\n",
        "def show_circle_localization(idx=4):\n",
        "    image = torch.load(f\"new_datasets/circle_localization/images/{idx}.pt\").numpy()\n",
        "    circle_mask = torch.load(f\"new_datasets/circle_localization/circles/{idx}.pt\").numpy()\n",
        "\n",
        "    plt.figure(figsize=(8, 4))\n",
        "    plt.subplot(1, 2, 1)\n",
        "    plt.imshow(image, cmap='gray')\n",
        "    plt.title(\"Original Image\")\n",
        "    plt.axis('off')\n",
        "\n",
        "    plt.subplot(1, 2, 2)\n",
        "    plt.imshow(circle_mask, cmap='gray')\n",
        "    plt.title(\"Enclosing Circle Mask\")\n",
        "    plt.axis('off')\n",
        "\n",
        "    plt.suptitle(f\"Circle Localization Example #{idx}\")\n",
        "    plt.show()\n",
        "show_circle_localization()"
      ],
      "metadata": {
        "colab": {
          "base_uri": "https://localhost:8080/",
          "height": 371
        },
        "id": "gPEHFdi1jXYS",
        "outputId": "1ae52b72-501e-4e37-c5dd-7c8491001944"
      },
      "execution_count": 22,
      "outputs": [
        {
          "output_type": "display_data",
          "data": {
            "text/plain": [
              "<Figure size 800x400 with 2 Axes>"
            ],
            "image/png": "[encoded data removed]"
          },
          "metadata": {}
        }
      ]
    },
    {
      "cell_type": "markdown",
      "source": [
        "**c) Spatially concatenate randomly chosen 4 images and their corresponding ground truths\n",
        "obtained in (a) in a 2x2 manner to develop new images and semantic segmentation ground truths,\n",
        "respectively. This will result in a new dataset of 10 classes for performing semantic\n",
        "segmentation.**"
      ],
      "metadata": {
        "id": "DNHPpkVWsMI1"
      }
    },
    {
      "cell_type": "markdown",
      "source": [
        "The segmented digit masks were divided into 2×2 regions and labeled by their overlap with the digit foreground. This dataset supports semantic segmentation of MNIST digits into spatial quadrants.\n",
        "\n"
      ],
      "metadata": {
        "id": "_7FQEFuHcEv-"
      }
    },
    {
      "cell_type": "code",
      "source": [
        "print(\"Creating semantic segmentation (2x2) dataset...\")\n",
        "concat_dataset = []\n",
        "for idx in tqdm(range(10000)):  # You can reduce to 5000 for smaller datasets\n",
        "    # Select 4 random samples\n",
        "    choices = random.sample(range(len(mnist_dataset)), 4)\n",
        "    imgs = []\n",
        "    masks = []\n",
        "\n",
        "    for i in choices:\n",
        "        img_tensor, label = mnist_dataset[i]\n",
        "        img = (img_tensor.squeeze().numpy() * 255).astype(np.uint8)\n",
        "        mask = get_otsu_mask(img_tensor)\n",
        "        imgs.append(img)\n",
        "        masks.append(mask)\n",
        "\n",
        "    top_img = np.hstack((imgs[0], imgs[1]))\n",
        "    bottom_img = np.hstack((imgs[2], imgs[3]))\n",
        "    full_img = np.vstack((top_img, bottom_img))\n",
        "\n",
        "    top_mask = np.hstack((masks[0], masks[1]))\n",
        "    bottom_mask = np.hstack((masks[2], masks[3]))\n",
        "    full_mask = np.vstack((top_mask, bottom_mask))\n",
        "\n",
        "    torch.save(torch.tensor(full_img, dtype=torch.uint8), f\"new_datasets/semantic_segmentation/images/{idx}.pt\")\n",
        "    torch.save(torch.tensor(full_mask, dtype=torch.uint8), f\"new_datasets/semantic_segmentation/masks/{idx}.pt\")\n",
        "    concat_dataset.append((idx, choices))  # Optionally record which digits were used"
      ],
      "metadata": {
        "colab": {
          "base_uri": "https://localhost:8080/"
        },
        "id": "vBVCY683eBUr",
        "outputId": "1f89a14e-a9b2-4dca-db23-354087b20a31"
      },
      "execution_count": 5,
      "outputs": [
        {
          "output_type": "stream",
          "name": "stdout",
          "text": [
            "Creating semantic segmentation (2x2) dataset...\n"
          ]
        },
        {
          "output_type": "stream",
          "name": "stderr",
          "text": [
            "100%|██████████| 10000/10000 [00:18<00:00, 537.08it/s]\n"
          ]
        }
      ]
    },
    {
      "cell_type": "code",
      "source": [
        "def show_semantic_segmentation(idx):\n",
        "    concat_image = torch.load(f\"new_datasets/semantic_segmentation/images/{idx}.pt\").numpy()\n",
        "    concat_mask = torch.load(f\"new_datasets/semantic_segmentation/masks/{idx}.pt\").numpy()\n",
        "\n",
        "    plt.figure(figsize=(8, 4))\n",
        "    plt.subplot(1, 2, 1)\n",
        "    plt.imshow(concat_image, cmap='gray')\n",
        "    plt.title(\"2×2 Concatenated Image\")\n",
        "    plt.axis('off')\n",
        "\n",
        "    plt.subplot(1, 2, 2)\n",
        "    plt.imshow(concat_mask, cmap='gray')\n",
        "    plt.title(\"2×2 Combined Mask\")\n",
        "    plt.axis('off')\n",
        "\n",
        "    plt.suptitle(f\"Semantic Segmentation Example #{idx}\")\n",
        "    plt.show()\n",
        "show_semantic_segmentation(2)"
      ],
      "metadata": {
        "colab": {
          "base_uri": "https://localhost:8080/",
          "height": 371
        },
        "id": "VpLmo7wfxkkQ",
        "outputId": "1004eec2-1697-4fd0-e130-55932f57cdad"
      },
      "execution_count": 6,
      "outputs": [
        {
          "output_type": "display_data",
          "data": {
            "text/plain": [
              "<Figure size 800x400 with 2 Axes>"
            ],
            "image/png": "[encoded data removed]"
          },
          "metadata": {}
        }
      ]
    },
    {
      "cell_type": "code",
      "source": [
        "from torch.utils.data import Dataset\n",
        "import torch\n",
        "import os\n",
        "\n",
        "class DatasetPreparation(Dataset):\n",
        "    def __init__(self, img_dir, mask_dir, labels_path=None):\n",
        "        \"\"\"\n",
        "        task_type:\n",
        "            - 'segmentation' for Q2/Q4 (returns img, mask)\n",
        "            - 'classification_with_mask' for Q3 (returns img, label, mask)\n",
        "        labels_path:\n",
        "            - For classification tasks (Q3), provide a list or dict of labels indexed by id\n",
        "        \"\"\"\n",
        "        self.img_dir = img_dir\n",
        "        self.mask_dir = mask_dir\n",
        "        self.ids = sorted([f.split('.')[0] for f in os.listdir(img_dir)])\n",
        "        self.labels = labels_path if labels_path else {}\n",
        "\n",
        "    def __len__(self):\n",
        "        return len(self.ids)\n",
        "\n",
        "    def __getitem__(self, idx):\n",
        "        id_ = self.ids[idx]\n",
        "        img = torch.load(os.path.join(self.img_dir, f\"{id_}.pt\")).unsqueeze(0).float() / 255\n",
        "        mask = torch.load(os.path.join(self.mask_dir, f\"{id_}.pt\")).unsqueeze(0).float() / 255\n",
        "        return img, mask\n"
      ],
      "metadata": {
        "id": "TDzCMH7feCcf"
      },
      "execution_count": 8,
      "outputs": []
    },
    {
      "cell_type": "markdown",
      "source": [
        "**Q2) Train a DL network from scratch to perform foreground extraction on the new dataset\n",
        "obtained in Q1(a). Report your test performance using the IoU metric.**"
      ],
      "metadata": {
        "id": "QJ7_snNoso1m"
      }
    },
    {
      "cell_type": "markdown",
      "source": [
        "A deep neural network has been trained from scratch to predict foreground masks using the dataset created from Otsu segmentation. The model was evaluated using Intersection over Union (IoU) to measure segmentation accuracy."
      ],
      "metadata": {
        "id": "6dds-xcYdh5I"
      }
    },
    {
      "cell_type": "code",
      "source": [
        "dataset_q2 = DatasetPreparation(\n",
        "    img_dir=\"new_datasets/foreground_segmentation/images\",\n",
        "    mask_dir=\"new_datasets/foreground_segmentation/masks\",\n",
        ")\n"
      ],
      "metadata": {
        "id": "3wkcbG91JYO6"
      },
      "execution_count": 9,
      "outputs": []
    },
    {
      "cell_type": "code",
      "source": [
        "import torch.nn as nn\n",
        "\n",
        "class SimpleSegNet(nn.Module):\n",
        "    def __init__(self):\n",
        "        super().__init__()\n",
        "        self.encoder = nn.Sequential(\n",
        "            nn.Conv2d(1, 16, 3, padding=1), nn.ReLU(),\n",
        "            nn.MaxPool2d(2),\n",
        "            nn.Conv2d(16, 32, 3, padding=1), nn.ReLU(),\n",
        "            nn.MaxPool2d(2)\n",
        "        )\n",
        "        self.decoder = nn.Sequential(\n",
        "            nn.ConvTranspose2d(32, 16, 2, stride=2), nn.ReLU(),\n",
        "            nn.ConvTranspose2d(16, 1, 2, stride=2),\n",
        "            nn.Sigmoid()\n",
        "        )\n",
        "\n",
        "    def forward(self, x):\n",
        "        x = self.encoder(x)\n",
        "        x = self.decoder(x)\n",
        "        return x\n"
      ],
      "metadata": {
        "id": "QRBFrWPZ2lst"
      },
      "execution_count": 10,
      "outputs": []
    },
    {
      "cell_type": "code",
      "source": [
        "def compute_iou(pred_mask, true_mask, threshold=0.5):\n",
        "    pred_bin = (pred_mask > threshold).float()\n",
        "    true_bin = (true_mask > threshold).float()\n",
        "    intersection = (pred_bin * true_bin).sum()\n",
        "    union = ((pred_bin + true_bin) > 0).float().sum()\n",
        "    return intersection / union if union != 0 else torch.tensor(1.0)\n"
      ],
      "metadata": {
        "id": "K_rN8EL22pY6"
      },
      "execution_count": 11,
      "outputs": []
    },
    {
      "cell_type": "code",
      "source": [
        "from torch.utils.data import random_split, DataLoader\n",
        "import torch.optim as optim\n",
        "\n",
        "# Dataset\n",
        "dataset = DatasetPreparation(\n",
        "    img_dir=\"new_datasets/foreground_segmentation/images\",\n",
        "    mask_dir=\"new_datasets/foreground_segmentation/masks\"\n",
        ")\n",
        "\n",
        "train_size = int(0.9 * len(dataset))\n",
        "train_set, test_set = random_split(dataset, [train_size, len(dataset) - train_size])\n",
        "train_loader = DataLoader(train_set, batch_size=64, shuffle=True)\n",
        "test_loader = DataLoader(test_set, batch_size=64)\n",
        "\n",
        "# Model, Loss, Optimizer\n",
        "model = SimpleSegNet()\n",
        "loss_fn = nn.BCELoss()\n",
        "optimizer = optim.Adam(model.parameters(), lr=1e-3)\n",
        "\n",
        "# Training loop\n",
        "for epoch in range(5):\n",
        "    model.train()\n",
        "    for imgs, masks in train_loader:\n",
        "        preds = model(imgs)\n",
        "        loss = loss_fn(preds, masks)\n",
        "        optimizer.zero_grad()\n",
        "        loss.backward()\n",
        "        optimizer.step()\n",
        "\n",
        "# Evaluation\n",
        "model.eval()\n",
        "ious = []\n",
        "with torch.no_grad():\n",
        "    for imgs, masks in test_loader:\n",
        "        preds = model(imgs)\n",
        "        for i in range(len(preds)):\n",
        "            iou = compute_iou(preds[i], masks[i])\n",
        "            ious.append(iou.item())\n",
        "\n",
        "print(f\"Q2 - Mean IoU on Test Set: {np.mean(ious):.4f}\")\n"
      ],
      "metadata": {
        "colab": {
          "base_uri": "https://localhost:8080/"
        },
        "id": "ZPDgyWtT2vTz",
        "outputId": "d2f9f0ce-51f6-4183-baaf-2553815c9391"
      },
      "execution_count": 12,
      "outputs": [
        {
          "output_type": "stream",
          "name": "stdout",
          "text": [
            "Q2 - Mean IoU on Test Set: 0.9119\n"
          ]
        }
      ]
    },
    {
      "cell_type": "markdown",
      "source": [
        "**Q3) Train a DL network from scratch to perform classification with circlization on the new\n",
        "dataset obtained in Q1(b). Report your test performance using the IoU metric. [2 Marks]\n",
        "Note: If the classification is wrong, consider the IoU metric score as zero.**\n"
      ],
      "metadata": {
        "id": "iHjjNnLutP9b"
      }
    },
    {
      "cell_type": "code",
      "source": [
        "from torch.utils.data import Dataset\n",
        "import os\n",
        "\n",
        "class CircleDataset(Dataset):\n",
        "    def __init__(self, image_dir, mask_dir, label_list):\n",
        "        self.image_dir = image_dir\n",
        "        self.mask_dir = mask_dir\n",
        "        self.ids = sorted([f.split('.')[0] for f in os.listdir(image_dir)], key=lambda x: int(x))\n",
        "        self.label_dict = {str(idx): label for idx, label in label_list}\n",
        "\n",
        "    def __len__(self):\n",
        "        return len(self.ids)\n",
        "\n",
        "    def __getitem__(self, idx):\n",
        "        id_ = self.ids[idx]\n",
        "        img = torch.load(os.path.join(self.image_dir, f\"{id_}.pt\")).unsqueeze(0).float() / 255.0\n",
        "        mask = torch.load(os.path.join(self.mask_dir, f\"{id_}.pt\")).unsqueeze(0).float() / 255.0\n",
        "        label = self.label_dict[id_]\n",
        "        return img, label, mask\n"
      ],
      "metadata": {
        "id": "QB0JPJ9z4j2O"
      },
      "execution_count": 12,
      "outputs": []
    },
    {
      "cell_type": "markdown",
      "source": [
        "We trained a dual-branch deep learning model: a classifier for digit label prediction and a mask regressor for circular localization. Evaluation was done using mean IoU, with zero IoU for incorrect classifications."
      ],
      "metadata": {
        "id": "VMleHsMkchrJ"
      }
    },
    {
      "cell_type": "code",
      "source": [
        "import torch.nn as nn\n",
        "\n",
        "class SimpleClassifier(nn.Module):\n",
        "    def __init__(self):\n",
        "        super().__init__()\n",
        "        self.net = nn.Sequential(\n",
        "            nn.Flatten(),\n",
        "            nn.Linear(28*28, 128),\n",
        "            nn.ReLU(),\n",
        "            nn.Linear(128, 10)\n",
        "        )\n",
        "\n",
        "    def forward(self, x):\n",
        "        return self.net(x)\n",
        "\n",
        "class CirclePredictor(nn.Module):\n",
        "    def __init__(self):\n",
        "        super().__init__()\n",
        "        self.net = nn.Sequential(\n",
        "            nn.Conv2d(1, 8, 3, padding=1), nn.ReLU(),\n",
        "            nn.Conv2d(8, 8, 3, padding=1), nn.ReLU(),\n",
        "            nn.Conv2d(8, 1, 1),\n",
        "            nn.Sigmoid()\n",
        "        )\n",
        "\n",
        "    def forward(self, x):\n",
        "        return self.net(x)\n"
      ],
      "metadata": {
        "id": "MODMf4-x22ni"
      },
      "execution_count": 13,
      "outputs": []
    },
    {
      "cell_type": "code",
      "source": [
        "from torch.utils.data import DataLoader\n",
        "import torch.optim as optim\n",
        "\n",
        "train_size = int(0.9 * len(dataset))\n",
        "train_set, test_set = random_split(dataset, [train_size, len(dataset) - train_size])\n",
        "train_loader = DataLoader(train_set, batch_size=64, shuffle=True)\n",
        "test_loader = DataLoader(test_set, batch_size=64)\n",
        "\n",
        "clf = SimpleClassifier()\n",
        "cir = CirclePredictor()\n",
        "\n",
        "optimizer = optim.Adam(list(clf.parameters()) + list(cir.parameters()), lr=1e-3)\n",
        "criterion_cls = nn.CrossEntropyLoss()\n",
        "criterion_mask = nn.BCELoss()\n",
        "\n",
        "for epoch in range(10):\n",
        "    clf.train()\n",
        "    cir.train()\n",
        "    total_loss, total_cls, total_mask = 0, 0, 0\n",
        "    for imgs, labels, masks in train_loader:\n",
        "        preds_cls = clf(imgs)\n",
        "        preds_mask = cir(imgs)\n",
        "\n",
        "        loss_cls = criterion_cls(preds_cls, labels)\n",
        "        loss_mask = criterion_mask(preds_mask, masks)\n",
        "        loss = loss_cls + loss_mask\n",
        "\n",
        "        optimizer.zero_grad()\n",
        "        loss.backward()\n",
        "        optimizer.step()\n",
        "\n",
        "        total_loss += loss.item()\n",
        "        total_cls += loss_cls.item()\n",
        "        total_mask += loss_mask.item()\n",
        "\n",
        "    print(f\"Epoch {epoch+1}, Loss: {total_loss:.4f}, Cls: {total_cls:.4f}, Mask: {total_mask:.4f}\")\n"
      ],
      "metadata": {
        "colab": {
          "base_uri": "https://localhost:8080/"
        },
        "id": "sI9sR1pdlfpy",
        "outputId": "992ecfa1-4605-44c5-aa90-aafe7c283a42"
      },
      "execution_count": 18,
      "outputs": [
        {
          "output_type": "stream",
          "name": "stdout",
          "text": [
            "Epoch 1, Loss: 677.0149, Cls: 302.6336, Mask: 374.3813\n",
            "Epoch 2, Loss: 480.2914, Cls: 142.7286, Mask: 337.5629\n",
            "Epoch 3, Loss: 431.7544, Cls: 98.7828, Mask: 332.9716\n",
            "Epoch 4, Loss: 405.2013, Cls: 75.0089, Mask: 330.1924\n",
            "Epoch 5, Loss: 388.0337, Cls: 59.8597, Mask: 328.1739\n",
            "Epoch 6, Loss: 375.3185, Cls: 48.4620, Mask: 326.8565\n",
            "Epoch 7, Loss: 364.6215, Cls: 38.6193, Mask: 326.0022\n",
            "Epoch 8, Loss: 358.0046, Cls: 32.7168, Mask: 325.2877\n",
            "Epoch 9, Loss: 351.4447, Cls: 26.6894, Mask: 324.7553\n",
            "Epoch 10, Loss: 346.1606, Cls: 21.9625, Mask: 324.1982\n"
          ]
        }
      ]
    },
    {
      "cell_type": "code",
      "source": [
        "def evaluate(clf, cir, test_loader):\n",
        "    clf.eval()\n",
        "    cir.eval()\n",
        "    total_iou = []\n",
        "\n",
        "    with torch.no_grad():\n",
        "        for imgs, labels, masks in test_loader:\n",
        "            pred_cls_logits = clf(imgs)\n",
        "            pred_cls = pred_cls_logits.argmax(dim=1)\n",
        "            pred_masks = cir(imgs)\n",
        "\n",
        "            for i in range(len(imgs)):\n",
        "                if pred_cls[i].item() == labels[i].item():\n",
        "                    iou = compute_iou(pred_masks[i], masks[i])\n",
        "                else:\n",
        "                    iou = 0.0\n",
        "                total_iou.append(iou)\n",
        "\n",
        "    print(f\"Mean IoU with classification: {np.mean(total_iou):.4f}\")\n",
        "evaluate(clf,cir,test_loader)"
      ],
      "metadata": {
        "colab": {
          "base_uri": "https://localhost:8080/"
        },
        "id": "VOWCwx_1kM0c",
        "outputId": "80f37193-369d-42f7-82da-76fc3de37309"
      },
      "execution_count": 19,
      "outputs": [
        {
          "output_type": "stream",
          "name": "stdout",
          "text": [
            "Mean IoU with classification: 0.6016\n"
          ]
        }
      ]
    },
    {
      "cell_type": "markdown",
      "source": [
        "**Q4) Train a DL network from scratch to perform semantic segmentation on the new dataset\n",
        "obtained in Q1(c). Report your test performance using the Dice Coefficient.**"
      ],
      "metadata": {
        "id": "-a02I1_IZX4O"
      }
    },
    {
      "cell_type": "code",
      "source": [
        "class SemanticSegmentationDataset(Dataset):\n",
        "    def __init__(self, image_dir, mask_dir):\n",
        "        self.image_dir = image_dir\n",
        "        self.mask_dir = mask_dir\n",
        "        self.ids = sorted([f.split('.')[0] for f in os.listdir(image_dir)], key=lambda x: int(x))\n",
        "\n",
        "    def __len__(self):\n",
        "        return len(self.ids)\n",
        "\n",
        "    def __getitem__(self, idx):\n",
        "        id_ = self.ids[idx]\n",
        "        img = torch.load(os.path.join(self.image_dir, f\"{id_}.pt\")).unsqueeze(0).float() / 255.0\n",
        "        mask = torch.load(os.path.join(self.mask_dir, f\"{id_}.pt\")).long()\n",
        "        return img, mask\n"
      ],
      "metadata": {
        "id": "e457xBunuvpC"
      },
      "execution_count": 13,
      "outputs": []
    },
    {
      "cell_type": "markdown",
      "source": [
        "A U-Net-like segmentation model was trained to predict the 2×2 semantic segmentation masks. Performance was measured using the Dice Coefficient to evaluate pixel-wise overlap."
      ],
      "metadata": {
        "id": "8OYAoKwjcoX9"
      }
    },
    {
      "cell_type": "code",
      "source": [
        "class SimpleSegNet(nn.Module):\n",
        "    def __init__(self, num_classes=10):\n",
        "        super(SimpleSegNet, self).__init__()\n",
        "        self.encoder = nn.Sequential(\n",
        "            nn.Conv2d(1, 32, 3, padding=1), nn.ReLU(),\n",
        "            nn.MaxPool2d(2),  # 14x14\n",
        "            nn.Conv2d(32, 64, 3, padding=1), nn.ReLU(),\n",
        "            nn.MaxPool2d(2),  # 7x7\n",
        "        )\n",
        "        self.decoder = nn.Sequential(\n",
        "            nn.ConvTranspose2d(64, 32, 2, stride=2),  # 14x14\n",
        "            nn.ReLU(),\n",
        "            nn.ConvTranspose2d(32, num_classes, 2, stride=2),  # 28x28\n",
        "        )\n",
        "\n",
        "    def forward(self, x):\n",
        "        x = self.encoder(x)\n",
        "        x = self.decoder(x)\n",
        "        return x\n"
      ],
      "metadata": {
        "id": "LY6ZeHXHu8vD"
      },
      "execution_count": 14,
      "outputs": []
    },
    {
      "cell_type": "code",
      "source": [
        "def dice_coeff(preds, targets, num_classes=10):\n",
        "    preds = torch.argmax(preds, dim=1)\n",
        "    dice = 0\n",
        "    for cls in range(num_classes):\n",
        "        pred_cls = (preds == cls).float()\n",
        "        target_cls = (targets == cls).float()\n",
        "        intersection = (pred_cls * target_cls).sum()\n",
        "        union = pred_cls.sum() + target_cls.sum()\n",
        "        if union == 0:\n",
        "            dice += 1  # if no target pixels, count as correct\n",
        "        else:\n",
        "            dice += (2. * intersection) / union\n",
        "    return dice / num_classes"
      ],
      "metadata": {
        "id": "pCLqL97AYbOJ"
      },
      "execution_count": 15,
      "outputs": []
    },
    {
      "cell_type": "code",
      "source": [
        "from torch.utils.data import DataLoader\n",
        "\n",
        "train_set = SemanticSegmentationDataset(\n",
        "    image_dir=\"new_datasets/semantic_segmentation/images\",\n",
        "    mask_dir=\"new_datasets/semantic_segmentation/masks\"\n",
        ")\n",
        "\n",
        "train_loader = DataLoader(train_set, batch_size=64, shuffle=True)\n",
        "\n",
        "model = SimpleSegNet(num_classes=10)\n",
        "optimizer = torch.optim.Adam(model.parameters(), lr=1e-3)\n",
        "criterion = nn.CrossEntropyLoss(ignore_index=255)\n",
        "\n",
        "# Training\n",
        "for epoch in range(5):\n",
        "    model.train()\n",
        "    total_loss = 0\n",
        "    for imgs, masks in train_loader:\n",
        "        outputs = model(imgs)\n",
        "        loss = criterion(outputs, masks)\n",
        "        optimizer.zero_grad()\n",
        "        loss.backward()\n",
        "        optimizer.step()\n",
        "        total_loss += loss.item()\n",
        "    print(f\"Epoch {epoch+1}, Loss: {total_loss:.4f}\")"
      ],
      "metadata": {
        "colab": {
          "base_uri": "https://localhost:8080/"
        },
        "id": "RYpn5RpwYdcD",
        "outputId": "0fd2e65d-2e8b-4f07-ca76-e82b59e94a23"
      },
      "execution_count": 17,
      "outputs": [
        {
          "output_type": "stream",
          "name": "stdout",
          "text": [
            "Epoch 1, Loss: 58.2738\n",
            "Epoch 2, Loss: 0.0497\n",
            "Epoch 3, Loss: 0.0243\n",
            "Epoch 4, Loss: 0.0141\n",
            "Epoch 5, Loss: 0.0091\n"
          ]
        }
      ]
    },
    {
      "cell_type": "code",
      "source": [
        "model.eval()\n",
        "dice_scores = []\n",
        "with torch.no_grad():\n",
        "    for imgs, masks in train_loader:\n",
        "        outputs = model(imgs)\n",
        "        dice = dice_coeff(outputs, masks, num_classes=10)\n",
        "        dice_scores.append(dice.item())\n",
        "\n",
        "print(f\"Q4 - Mean Dice Coefficient: {np.mean(dice_scores):.4f}\")\n"
      ],
      "metadata": {
        "colab": {
          "base_uri": "https://localhost:8080/"
        },
        "id": "KyNAjz7NYt6_",
        "outputId": "c99b16b4-5038-4961-84a7-67f7cb66dba6"
      },
      "execution_count": 18,
      "outputs": [
        {
          "output_type": "stream",
          "name": "stdout",
          "text": [
            "Q4 - Mean Dice Coefficient: 0.9926\n"
          ]
        }
      ]
    },
    {
      "cell_type": "markdown",
      "source": [
        "**Q5) Apply one of the background subtraction algorithms to the given video and use appropriate\n",
        "post-processing techniques to generate a new video with the provided image as the background.\n",
        "The entire process should be implemented using a program.**"
      ],
      "metadata": {
        "id": "ecvUxjyUYvkl"
      }
    },
    {
      "cell_type": "markdown",
      "source": [
        "I have applied MOG2 background subtraction to segment the moving subject from video frames. Post-processing with morphological operations refined the mask, and the subject was composited onto a new static background image to generate a seamless output video."
      ],
      "metadata": {
        "id": "GrcNM5LndO9H"
      }
    },
    {
      "cell_type": "code",
      "source": [
        "import cv2\n",
        "import numpy as np\n",
        "\n",
        "video_path = 'denis_walk.avi'\n",
        "background_image_path = 'bg.png'\n",
        "output_video_path = 'output_video.avi'\n",
        "\n",
        "background_img = cv2.imread(background_image_path)\n",
        "\n",
        "cap = cv2.VideoCapture(video_path)\n",
        "width = int(cap.get(cv2.CAP_PROP_FRAME_WIDTH))\n",
        "height = int(cap.get(cv2.CAP_PROP_FRAME_HEIGHT))\n",
        "fps = cap.get(cv2.CAP_PROP_FPS)\n",
        "\n",
        "# Resizing background to video frame size\n",
        "background_img = cv2.resize(background_img, (width, height))\n",
        "\n",
        "fourcc = cv2.VideoWriter_fourcc(*'XVID')\n",
        "out = cv2.VideoWriter(output_video_path, fourcc, fps, (width, height))\n",
        "\n",
        "# Background subtractor\n",
        "fgbg = cv2.createBackgroundSubtractorMOG2(history=200, varThreshold=50, detectShadows=False)\n",
        "\n",
        "while True:\n",
        "    ret, frame = cap.read()\n",
        "    if not ret:\n",
        "        break\n",
        "\n",
        "    # background subtraction\n",
        "    fg_mask = fgbg.apply(frame)\n",
        "\n",
        "    # Post-processing\n",
        "    kernel = cv2.getStructuringElement(cv2.MORPH_ELLIPSE, (5, 5))\n",
        "    fg_mask = cv2.morphologyEx(fg_mask, cv2.MORPH_OPEN, kernel)\n",
        "    fg_mask = cv2.morphologyEx(fg_mask, cv2.MORPH_DILATE, kernel)\n",
        "\n",
        "    fg_mask_3c = cv2.merge([fg_mask] * 3)\n",
        "\n",
        "    foreground = cv2.bitwise_and(frame, fg_mask_3c)\n",
        "    inverse_mask = cv2.bitwise_not(fg_mask)\n",
        "    inverse_mask_3c = cv2.merge([inverse_mask] * 3)\n",
        "    new_background = cv2.bitwise_and(background_img, inverse_mask_3c)\n",
        "\n",
        "    # Combining foreground with new background\n",
        "    combined = cv2.add(foreground, new_background)\n",
        "    out.write(combined)\n",
        "\n",
        "# Releasing everything here\n",
        "cap.release()\n",
        "out.release()\n",
        "cv2.destroyAllWindows()\n",
        "\n",
        "print(\"✅ Background replacement completed and saved to:\", output_video_path)\n"
      ],
      "metadata": {
        "id": "UdktPUcq4bkr",
        "colab": {
          "base_uri": "https://localhost:8080/"
        },
        "outputId": "a82dd525-5e39-4c5e-a28d-31b05e7c9f27"
      },
      "execution_count": 17,
      "outputs": [
        {
          "output_type": "stream",
          "name": "stdout",
          "text": [
            "✅ Background replacement completed and saved to: output_video.avi\n"
          ]
        }
      ]
    },
    {
      "cell_type": "code",
      "source": [],
      "metadata": {
        "id": "WToDvI02Cuvq"
      },
      "execution_count": 16,
      "outputs": []
    }
  ]
}